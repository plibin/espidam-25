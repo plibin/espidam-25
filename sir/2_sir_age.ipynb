{
 "cells": [
  {
   "cell_type": "markdown",
   "metadata": {},
   "source": [
    "# **ESPIDAM: SIR Age-Structured Example**\n",
    "\n",
    "***Authors: Sebastiaan Weytjens, Pieter Libin, Niel Hens***"
   ]
  },
  {
   "cell_type": "markdown",
   "metadata": {},
   "source": [
    "### **How to Run**\n",
    "If you're having trouble running this code on your local machine, please open and run this notebook in Colab:\n",
    "\n",
    "[![colab](https://colab.research.google.com/assets/colab-badge.svg)](https://colab.research.google.com/github/plibin/espidam-25-dev/blob/main/sir/2_sir_age.ipynb)"
   ]
  },
  {
   "cell_type": "markdown",
   "metadata": {},
   "source": [
    "We define some helper code that allows this notebook to run in both local environments and Google Colab:"
   ]
  },
  {
   "cell_type": "code",
   "execution_count": null,
   "metadata": {},
   "outputs": [],
   "source": [
    "import os\n",
    "import urllib.request\n",
    "\n",
    "def is_running_in_colab() -> bool:\n",
    "    \"\"\"\n",
    "    Returns if the code is running inside Google Colab.\n",
    "\n",
    "    \"\"\"\n",
    "    try:\n",
    "        import google.colab\n",
    "        return True\n",
    "    except ImportError:\n",
    "        return False\n",
    "\n",
    "def download_file(filepath: str, \n",
    "                  url: str) -> None:\n",
    "    \"\"\"\n",
    "    Download a file from a URL if it does not exist locally. This is only \n",
    "    performed when running inside Google Colab.\n",
    "\n",
    "    Arguments\n",
    "    ---------\n",
    "    filepath :  The local path (including subdirectories) where the file should be saved.\n",
    "    url      :  The direct URL to download the file from.\n",
    "\n",
    "    \"\"\"\n",
    "    if is_running_in_colab() and not os.path.exists(filepath):\n",
    "        os.makedirs(os.path.dirname(filepath), exist_ok=True)\n",
    "        print(f\"Downloading {filepath} from {url}\")\n",
    "        urllib.request.urlretrieve(url, filepath)"
   ]
  },
  {
   "cell_type": "markdown",
   "metadata": {},
   "source": [
    "For Colab runs, we download the necessary files (i.e., helper functions, images, etc.):"
   ]
  },
  {
   "cell_type": "code",
   "execution_count": null,
   "metadata": {},
   "outputs": [],
   "source": [
    "if is_running_in_colab():\n",
    "    download_file(filepath='img/age_sir_model.png', url=f'https://raw.githubusercontent.com/plibin/espidam-25-dev/main/sir/img/age_sir_model.png')\n",
    "    download_file(filepath='utils/sir_helpers.py', url=f'https://raw.githubusercontent.com/plibin/espidam-25-dev/main/sir/utils/sir_helpers.py')"
   ]
  },
  {
   "cell_type": "markdown",
   "metadata": {},
   "source": [
    "### **Age-Structured SIR: Adding Contact Behaviour**\n",
    "\n",
    "Assume the following contact matrix, which contains contact between children and adults:\n",
    "\n",
    "<img src=\"img/age_sir_model.png\" alt=\"The diagram of an age-structured SIR model.\" style=\"width:400px;\"/>\n",
    "\n",
    "Rows and columns 0 and 1 represent children and adults, respectively. For example, $C_{0 1}$ are the contacts of children with adults, which is 9 in this case [1]. \n",
    "\n",
    "\n",
    "\n",
    "$C=\\left(\\begin{array}{cc}18 & 9 \\\\ 3 & 12\\end{array}\\right)$\n",
    "\n",
    "Consequently, we modify the rate (i.e., the force of infection) between $S$ and $I$ as follows:\n",
    "\n",
    "$\n",
    "-\\beta \\cdot \\sum_j C_{i j} \\cdot I_j / N_j\n",
    "$\n",
    "\n",
    "The ODE equations for the age structured SIR model become the following: \n",
    "\n",
    "$\n",
    "\\begin{aligned}\n",
    "\\frac{{dS_i}}{{dt}} &= -\\beta \\cdot S_i \\cdot \\sum_j C_{i j} \\cdot I_j / N_j \\\\\n",
    "\\frac{{dI_i}}{{dt}} &= \\beta \\cdot S_i \\cdot \\sum_j C_{i j} \\cdot I_j / N_j - \\gamma \\cdot I_i\\\\\n",
    "\\frac{{dR_i}}{{dt}} &= \\gamma \\cdot I_i\n",
    "\\end{aligned}\n",
    "$\n",
    "\n",
    "[1]: SIR infectious disease model with age classes: https://sherrytowers.com/2012/12/11/sir-model-with-age-classes/"
   ]
  },
  {
   "cell_type": "markdown",
   "metadata": {},
   "source": [
    "### **Dependencies**\n",
    "First, make sure to install miniconda and the necessary libraries as specified in [`README.md`](README.md). After that, we import the necessary libraries and dependencies as follows:"
   ]
  },
  {
   "cell_type": "code",
   "execution_count": null,
   "metadata": {},
   "outputs": [],
   "source": [
    "import numpy as np\n",
    "from numpy.linalg import eig\n",
    "from scipy.integrate import odeint\n",
    "from utils.sir_helpers import *\n",
    "\n",
    "# Ignore warnings.\n",
    "import warnings\n",
    "warnings.filterwarnings(\"ignore\")"
   ]
  },
  {
   "cell_type": "markdown",
   "metadata": {},
   "source": [
    "### **Model Description**\n",
    "We will start with the model description. We gave you head start by filling in the compartments, the contact matrix and the initial compartment values. Complete the force of infection and the rate between $I$ and $R$."
   ]
  },
  {
   "cell_type": "code",
   "execution_count": null,
   "metadata": {},
   "outputs": [],
   "source": [
    "# Compartments.\n",
    "compartments = {\n",
    "    \"S_c\": [],\n",
    "    \"I_c\": [],\n",
    "    \"R_c\": [],\n",
    "    \"S_a\": [],\n",
    "    \"I_a\": [],\n",
    "    \"R_a\": [],\n",
    "}\n",
    "\n",
    "# Contact matrix.\n",
    "def contacts(i: int, j: int) -> int:\n",
    "    \"\"\"\n",
    "    Returns the average number of contacts between age groups.\n",
    "\n",
    "    Arguments\n",
    "    ---------\n",
    "    i :  The index of the receiving age group.\n",
    "    j :  The index of the contacting age group.\n",
    "\n",
    "    Returns\n",
    "    -------\n",
    "    The average number of contacts from group j to group i.\n",
    "    \"\"\"\n",
    "    # Note: This is not the most efficient implementation but prioritizes clarity.\n",
    "    contact_matrix = [\n",
    "        [18, 9],\n",
    "        [3, 12],\n",
    "    ]\n",
    "    return contact_matrix[i][j]\n",
    "\n",
    "\n",
    "# Transition rates.\n",
    "def foi(I: list, params: dict, Ns: list, ac_idx: int, acs: int) -> float:\n",
    "    \"\"\"\n",
    "    Computes the force of infection for a given age group.\n",
    "\n",
    "    Arguments\n",
    "    ---------\n",
    "    I      :  A list of infected individuals per age group.\n",
    "    params :  A dictionary containing model parameters (expects key 'beta').\n",
    "    Ns     :  A list of population sizes per age group.\n",
    "    ac_idx :  The index of the current age class.\n",
    "    acs    :  The total number of age classes.\n",
    "\n",
    "    Returns\n",
    "    -------\n",
    "    foi_value :  The force of infection for the specified age group.\n",
    "\n",
    "    \"\"\"\n",
    "    foi_value = 0\n",
    "\n",
    "    # TODO: Complete FOI calculation.\n",
    "    \n",
    "    return foi_value\n",
    "\n",
    "\n",
    "def i_r(params: dict) -> float:\n",
    "    \"\"\"\n",
    "    Computes the recovery rate.\n",
    "\n",
    "    Arguments\n",
    "    ---------\n",
    "    params :  The dictionary containing model parameters (expects key 'gamma').\n",
    "\n",
    "    Returns\n",
    "    -------\n",
    "    The recovery rate.\n",
    "\n",
    "    \"\"\"\n",
    "    # TODO: Return the recovery rate (I to R).\n",
    "    pass\n",
    "\n",
    "\n",
    "def initialise_modelstate(modelstate: dict, seeds: int, N_c: int, N_a: int) -> dict:\n",
    "    \"\"\"\n",
    "    Initialises the model state for two age groups: children and adults.\n",
    "\n",
    "    Arguments\n",
    "    ---------\n",
    "    modelstate :  A dictionary to hold compartment values over time.\n",
    "    seeds      :  The initial number of infected individuals per group.\n",
    "    N_c        :  The total population size of children.\n",
    "    N_a        :  The total population size of adults.\n",
    "\n",
    "    Returns\n",
    "    -------\n",
    "    modelstate :  The updated model state dictionary.\n",
    "\n",
    "    \"\"\"\n",
    "    modelstate[\"S_c\"] = [N_c - seeds]\n",
    "    modelstate[\"I_c\"] = [seeds]\n",
    "    modelstate[\"R_c\"] = [0]\n",
    "\n",
    "    modelstate[\"S_a\"] = [N_a - seeds]\n",
    "    modelstate[\"I_a\"] = [seeds]\n",
    "    modelstate[\"R_a\"] = [0]\n",
    "\n",
    "    return modelstate\n"
   ]
  },
  {
   "cell_type": "markdown",
   "metadata": {},
   "source": [
    "### **Contact Restrictions**\n",
    "How would you implement working from home and closing schools? Complete the contact functions for those scenarios below."
   ]
  },
  {
   "cell_type": "code",
   "execution_count": null,
   "metadata": {},
   "outputs": [],
   "source": [
    "def contacts_working_from_home(i: int, j: int) -> int:\n",
    "    \"\"\"\n",
    "    Returns the average number of contacts between two age groups\n",
    "    when individuals are working from home.\n",
    "\n",
    "    Arguments\n",
    "    ---------\n",
    "    i :  The index of the receiving age group.\n",
    "    j :  The index of the contacting age group.\n",
    "\n",
    "    Returns\n",
    "    -------\n",
    "    The average number of contacts from group j to group i under work-from-home conditions.\n",
    "    \n",
    "    \"\"\"\n",
    "    # TODO: Return the contacts when working from home.\n",
    "    pass\n",
    "\n",
    "\n",
    "def contacts_schools_closed(i: int, j: int) -> int:\n",
    "    \"\"\"\n",
    "    Returns the average number of contacts between two age groups\n",
    "    when schools are closed.\n",
    "\n",
    "    Arguments\n",
    "    ---------\n",
    "    i :  The index of the receiving age group.\n",
    "    j :  The index of the contacting age group.\n",
    "\n",
    "    Returns\n",
    "    -------\n",
    "    The average number of contacts from group j to group i under school-closure conditions.\n",
    "    \n",
    "    \"\"\"\n",
    "    # TODO: Return the contacts when schools are closed.\n",
    "    pass\n"
   ]
  },
  {
   "cell_type": "markdown",
   "metadata": {},
   "source": [
    "### **Solvers for the model**\n",
    "Next, we will use ODEs and the Binomial Chain to simulate our model. Complete the `ode_system` and `binom_solver` functions.\n",
    "\n",
    "We begin with the ODE solver:"
   ]
  },
  {
   "cell_type": "code",
   "execution_count": null,
   "metadata": {},
   "outputs": [],
   "source": [
    "def ode_system(y0: tuple, t: float, parameters: dict) -> tuple:\n",
    "    \"\"\"\n",
    "    Defines the ODE system for a two-age-group SIR model.\n",
    "\n",
    "    Arguments\n",
    "    ---------\n",
    "    y0         :  A tuple of initial values for (S_c, I_c, R_c, S_a, I_a, R_a).\n",
    "    t          :  The current time point (unused but required by `odeint`).\n",
    "    parameters :  A dictionary containing 'disease_params' and population sizes 'Ns'.\n",
    "\n",
    "    Returns\n",
    "    -------\n",
    "    The derivatives (dS_c, dI_c, dR_c, dS_a, dI_a, dR_a) as a tuple.\n",
    "    \n",
    "    \"\"\"\n",
    "    params = parameters[\"disease_params\"]\n",
    "    Ns     = parameters[\"Ns\"]\n",
    "\n",
    "    s_c, i_c, r_c, s_a, i_a, r_a = y0\n",
    "    ds_c, di_c, dr_c             = 0, 0, 0\n",
    "    ds_a, di_a, dr_a             = 0, 0, 0\n",
    "\n",
    "    # TODO: Calculate the new individuals for each compartment for children and adults.\n",
    "\n",
    "    return ds_c, di_c, dr_c, ds_a, di_a, dr_a\n",
    "\n",
    "\n",
    "def ode_solver(model_state: dict, end_t: int, params: dict, Ns: list) -> dict:\n",
    "    \"\"\"\n",
    "    Solves the two-age-group SIR model using ordinary differential equations.\n",
    "\n",
    "    Arguments\n",
    "    ---------\n",
    "    model_state :  The initial state of the compartments.\n",
    "    end_t       :  The number of time steps to simulate.\n",
    "    params      :  A dictionary of model parameters.\n",
    "    Ns          :  A list of population sizes for each age group.\n",
    "\n",
    "    Returns\n",
    "    -------\n",
    "    new_modelstate :  The model state over time for all compartments.\n",
    "    \n",
    "    \"\"\"\n",
    "    all_parameters = {\n",
    "        \"disease_params\": params,\n",
    "        \"Ns\": Ns,\n",
    "    }\n",
    "\n",
    "    # Initial conditions and time vector.\n",
    "    y0 = (\n",
    "        model_state[\"S_c\"][0], model_state[\"I_c\"][0], model_state[\"R_c\"][0],\n",
    "        model_state[\"S_a\"][0], model_state[\"I_a\"][0], model_state[\"R_a\"][0]\n",
    "    )\n",
    "    t = np.linspace(0, end_t, end_t)\n",
    "\n",
    "    # Solve the ODE system.\n",
    "    ret = odeint(ode_system, y0, t, args=(all_parameters,))\n",
    "    s_c, i_c, r_c, s_a, i_a, r_a = ret.T\n",
    "\n",
    "    new_modelstate = {\n",
    "        \"S_c\": list(s_c),\n",
    "        \"I_c\": list(i_c),\n",
    "        \"R_c\": list(r_c),\n",
    "        \"S_a\": list(s_a),\n",
    "        \"I_a\": list(i_a),\n",
    "        \"R_a\": list(r_a),\n",
    "    }\n",
    "\n",
    "    return new_modelstate"
   ]
  },
  {
   "cell_type": "markdown",
   "metadata": {},
   "source": [
    "Next, we define the Binomial Chain solver:"
   ]
  },
  {
   "cell_type": "code",
   "execution_count": null,
   "metadata": {},
   "outputs": [],
   "source": [
    "def binom_solver(model_state: dict, end_t: int, params: dict, Ns: list, iterations: int) -> dict:\n",
    "    \"\"\"\n",
    "    Simulates the two-age-group SIR model using a binomial chain approach.\n",
    "\n",
    "    Arguments\n",
    "    ---------\n",
    "    model_state :  The initial state of the compartments.\n",
    "    end_t       :  The number of time steps (days) to simulate.\n",
    "    params      :  A dictionary of model parameters.\n",
    "    Ns          :  A list of population sizes for each age group.\n",
    "    iterations  :  The number of stochastic simulations to run.\n",
    "\n",
    "    Returns\n",
    "    -------\n",
    "    model_states :  A dictionary of trajectories over time for each compartment across iterations.\n",
    "    \n",
    "    \"\"\"\n",
    "    model_states = {\n",
    "        \"S_c\": [],\n",
    "        \"I_c\": [],\n",
    "        \"R_c\": [],\n",
    "        \"S_a\": [],\n",
    "        \"I_a\": [],\n",
    "        \"R_a\": [],\n",
    "    }\n",
    "\n",
    "    # Simulate multiple stochastic trajectories.\n",
    "    for _ in range(iterations):\n",
    "        s_c = [model_state[\"S_c\"][0]]\n",
    "        i_c = [model_state[\"I_c\"][0]]\n",
    "        r_c = [model_state[\"R_c\"][0]]\n",
    "        s_a = [model_state[\"S_a\"][0]]\n",
    "        i_a = [model_state[\"I_a\"][0]]\n",
    "        r_a = [model_state[\"R_a\"][0]]\n",
    "\n",
    "        # TODO: Calculate the new individuals for each compartment for children and adults at each time step.\n",
    "\n",
    "        # Downsample to daily resolution.\n",
    "        indices = [index for index in range(0, end_t * 10, 10)]\n",
    "        model_states[\"S_c\"].append([s_c[index] for index in indices])\n",
    "        model_states[\"I_c\"].append([i_c[index] for index in indices])\n",
    "        model_states[\"R_c\"].append([r_c[index] for index in indices])\n",
    "        model_states[\"S_a\"].append([s_a[index] for index in indices])\n",
    "        model_states[\"I_a\"].append([i_a[index] for index in indices])\n",
    "        model_states[\"R_a\"].append([r_a[index] for index in indices])\n",
    "\n",
    "    return model_states"
   ]
  },
  {
   "cell_type": "markdown",
   "metadata": {},
   "source": [
    "### **Model Parameters**\n",
    "If you implemented everything correctly, you can use the parameters below to simulate your age-structured SIR model. Note that $\\beta$ is calculated using $\\gamma$, $R_0$ and the spectral radius of the normalised contact matrix."
   ]
  },
  {
   "cell_type": "code",
   "execution_count": null,
   "metadata": {},
   "outputs": [],
   "source": [
    "# Population and initial conditions.\n",
    "N = 1_000_000       # total population\n",
    "N_c = 0.25 * N      # population of children\n",
    "N_a = 0.75 * N      # population of adults\n",
    "seeds = 1           # initial number of infected individuals per group\n",
    "\n",
    "# Disease parameters.\n",
    "gamma = 1 / 7      # recovery rate (1 / infectious period)\n",
    "R0 = 3             # basic reproduction number\n",
    "f = [0.25, 0.75]   # fraction of children and adults in the population\n",
    "\n",
    "# Normalised contact matrix.\n",
    "m = np.array([\n",
    "    [18 * f[0] / f[0],  9 * f[0] / f[1]],\n",
    "    [ 3 * f[1] / f[0], 12 * f[1] / f[1]],\n",
    "])\n",
    "spectral_radius = max(eig(m)[0])  # spectral radius of the contact matrix\n",
    "\n",
    "params = {\n",
    "    \"beta\":  R0 * gamma / spectral_radius,  # transmission rate\n",
    "    \"gamma\": gamma,                         # recovery rate\n",
    "}\n",
    "\n",
    "# Simulation settings.\n",
    "end_t = 150  # number of days to simulate\n"
   ]
  },
  {
   "cell_type": "markdown",
   "metadata": {},
   "source": [
    "### **Simulation**\n",
    "Now, simulate your model."
   ]
  },
  {
   "cell_type": "markdown",
   "metadata": {},
   "source": [
    "##### **Deterministic simulation results**"
   ]
  },
  {
   "cell_type": "code",
   "execution_count": null,
   "metadata": {},
   "outputs": [],
   "source": [
    "modelstate = initialise_modelstate(compartments, seeds, N_c, N_a)\n",
    "results = ode_solver(modelstate, end_t, params, [N_c, N_a])\n",
    "\n",
    "plot_ODE_age(results, \"SIR Model with Age Structure (ODE Solver)\", max(N_c, N_a))"
   ]
  },
  {
   "cell_type": "markdown",
   "metadata": {},
   "source": [
    "##### **Stochastic simulation results**"
   ]
  },
  {
   "cell_type": "code",
   "execution_count": null,
   "metadata": {},
   "outputs": [],
   "source": [
    "modelstate = initialise_modelstate(compartments, seeds, N_c, N_a)\n",
    "results = binom_solver(modelstate, end_t, params, [N_c, N_a], 100)\n",
    "\n",
    "plot_binom_age(results, \"SIR Model with Age Structure (Binomial Chain Solver)\", max(N_c, N_a))"
   ]
  },
  {
   "cell_type": "markdown",
   "metadata": {},
   "source": [
    "### **Working from Home**\n",
    "Adjust your model so that individuals are working from home by using the contact matrix you created before. Do a deterministic simulation. Did working from home affect the number of infections?"
   ]
  },
  {
   "cell_type": "code",
   "execution_count": null,
   "metadata": {},
   "outputs": [],
   "source": [
    "# TODO: Perform a deterministic simulation with the working from home scenario."
   ]
  }
 ],
 "metadata": {
  "kernelspec": {
   "display_name": "espidam",
   "language": "python",
   "name": "python3"
  },
  "language_info": {
   "codemirror_mode": {
    "name": "ipython",
    "version": 3
   },
   "file_extension": ".py",
   "mimetype": "text/x-python",
   "name": "python",
   "nbconvert_exporter": "python",
   "pygments_lexer": "ipython3",
   "version": "3.12.3"
  }
 },
 "nbformat": 4,
 "nbformat_minor": 2
}
