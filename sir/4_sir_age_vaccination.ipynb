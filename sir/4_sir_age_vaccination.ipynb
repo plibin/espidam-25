{
 "cells": [
  {
   "cell_type": "markdown",
   "metadata": {},
   "source": [
    "# **ESPIDAM: SIR Age-Structured Example With Vaccination**\n",
    "\n",
    "***Authors: Sebastiaan Weytjens, Bram Silue, Pieter Libin, Niel Hens***"
   ]
  },
  {
   "cell_type": "markdown",
   "metadata": {},
   "source": [
    "### **How to Run**\n",
    "If you're having trouble running this code on your local machine, please open and run this notebook in Colab:\n",
    "\n",
    "[![colab](https://colab.research.google.com/assets/colab-badge.svg)](https://colab.research.google.com/github/plibin/espidam-25/blob/main/sir/4_sir_age_vaccination.ipynb)"
   ]
  },
  {
   "cell_type": "markdown",
   "metadata": {},
   "source": [
    "We define some helper code that allows this notebook to run in both local environments and Google Colab:"
   ]
  },
  {
   "cell_type": "code",
   "execution_count": null,
   "metadata": {},
   "outputs": [],
   "source": [
    "import os\n",
    "import urllib.request\n",
    "\n",
    "def is_running_in_colab() -> bool:\n",
    "    \"\"\"\n",
    "    Returns if the code is running inside Google Colab.\n",
    "\n",
    "    \"\"\"\n",
    "    try:\n",
    "        import google.colab\n",
    "        return True\n",
    "    except ImportError:\n",
    "        return False\n",
    "\n",
    "def download_file(filepath: str, \n",
    "                  url: str) -> None:\n",
    "    \"\"\"\n",
    "    Download a file from a URL if it does not exist locally. This is only \n",
    "    performed when running inside Google Colab.\n",
    "\n",
    "    Arguments\n",
    "    ---------\n",
    "    filepath :  The local path (including subdirectories) where the file should be saved.\n",
    "    url      :  The direct URL to download the file from.\n",
    "\n",
    "    \"\"\"\n",
    "    if is_running_in_colab() and not os.path.exists(filepath):\n",
    "        os.makedirs(os.path.dirname(filepath), exist_ok=True)\n",
    "        print(f\"Downloading {filepath} from {url}\")\n",
    "        urllib.request.urlretrieve(url, filepath)"
   ]
  },
  {
   "cell_type": "markdown",
   "metadata": {},
   "source": [
    "For Colab runs, we download the necessary files (i.e., helper functions, images, etc.):"
   ]
  },
  {
   "cell_type": "code",
   "execution_count": null,
   "metadata": {},
   "outputs": [],
   "source": [
    "if is_running_in_colab():\n",
    "    download_file(filepath='utils/sir_helpers.py', url=f'https://raw.githubusercontent.com/plibin/espidam-25/main/sir/utils/sir_helpers.py')"
   ]
  },
  {
   "cell_type": "markdown",
   "metadata": {},
   "source": [
    "### **Age-Structured SIR: Adding Vaccination**\n",
    "\n",
    "To enable vaccination in the SIR model, we add two compartments: SV and IV, vaccinated susceptible and infected individuals, respectively. We modify the ODE equations as follows, where $\\rho_i$ indicates the vaccination rate for age class i, $VE_S$ the susceptibility of vaccinated individuals, and $VE_I$ the infectiousness of vaccinated infected individuals:\n",
    "\n",
    "$\n",
    "\\begin{aligned}\n",
    "\\frac{{dS_i}}{{dt}} &= - \\rho_i \\cdot S_i -\\beta \\cdot S_i \\cdot \\sum_j C_{i j} \\cdot (I_j + VE_I \\cdot IV_j) / N_j \\\\\n",
    "\\frac{{dSV_i}}{{dt}} &= \\rho_i \\cdot S_i -\\beta \\cdot VE_S \\cdot SV_i \\cdot \\sum_j C_{i j} \\cdot (I_j + VE_I \\cdot IV_j) / N_j \\\\\n",
    "\\frac{{dI_i}}{{dt}} &= - \\rho_i \\cdot I_i - \\gamma \\cdot I_i + \\beta \\cdot S_i \\cdot \\sum_j C_{i j} \\cdot (I_j + VE_I \\cdot IV_j) / N_j \\\\\n",
    "\\frac{{dIV_i}}{{dt}} &= \\rho_i \\cdot I_i - \\gamma \\cdot IV_i + \\beta \\cdot VE_S \\cdot SV_i \\cdot \\sum_j C_{i j} \\cdot (I_j + VE_I \\cdot IV_j) / N_j \\\\\n",
    "\\frac{{dR_i}}{{dt}} &= \\gamma \\cdot I_i + \\gamma \\cdot IV_i\n",
    "\\end{aligned}\n",
    "$"
   ]
  },
  {
   "cell_type": "markdown",
   "metadata": {},
   "source": [
    "### **Dependencies**\n",
    "First, make sure to install miniconda and the necessary libraries as specified in [`README.md`](README.md). After that, we import the necessary libraries and dependencies as follows:"
   ]
  },
  {
   "cell_type": "code",
   "execution_count": null,
   "metadata": {},
   "outputs": [],
   "source": [
    "import numpy as np\n",
    "from numpy.linalg import eig\n",
    "from scipy.integrate import odeint\n",
    "from utils.sir_helpers import *\n",
    "\n",
    "# Ignore warnings.\n",
    "import warnings\n",
    "warnings.filterwarnings(\"ignore\")"
   ]
  },
  {
   "cell_type": "markdown",
   "metadata": {},
   "source": [
    "### **Model Description**\n",
    "We will start with the model description. Again, we give you a head start by filling in the compartments, the contact matrix and the initial compartment values. Complete the force of infection and the required rates."
   ]
  },
  {
   "cell_type": "code",
   "execution_count": null,
   "metadata": {},
   "outputs": [],
   "source": [
    "# Compartments.\n",
    "compartments = {\n",
    "    \"S_c\":  [],\n",
    "    \"SV_c\": [],\n",
    "    \"I_c\":  [],\n",
    "    \"IV_c\": [],\n",
    "    \"R_c\":  [],\n",
    "    \"S_a\":  [],\n",
    "    \"SV_a\": [],\n",
    "    \"I_a\":  [],\n",
    "    \"IV_a\": [],\n",
    "    \"R_a\":  [],\n",
    "}\n",
    "\n",
    "\n",
    "# Contact matrix.\n",
    "def contacts(i: int, j: int) -> int:\n",
    "    \"\"\"\n",
    "    Returns the average number of contacts between age groups.\n",
    "\n",
    "    Arguments\n",
    "    ---------\n",
    "    i :  The index of the receiving age group.\n",
    "    j :  The index of the contacting age group.\n",
    "\n",
    "    Returns\n",
    "    -------\n",
    "    The average number of contacts from group j to group i.\n",
    "\n",
    "    \"\"\"\n",
    "    contact_matrix = [\n",
    "        [18, 9],\n",
    "        [3, 12],\n",
    "    ]\n",
    "    return contact_matrix[i][j]\n",
    "\n",
    "\n",
    "# Transition rates.\n",
    "def foi(I: list, Iv: list, params: dict, Ns: list, ac_idx: int, acs: int) -> float:\n",
    "    \"\"\"\n",
    "    Computes the force of infection for a given age group.\n",
    "\n",
    "    Arguments\n",
    "    ---------\n",
    "    I      :  A list of infected individuals per age group.\n",
    "    Iv     :  A list of vaccinated infected individuals per age group.\n",
    "    params :  A dictionary containing model parameters (expects key 'beta').\n",
    "    Ns     :  A list of population sizes per age group.\n",
    "    ac_idx :  The index of the current age class.\n",
    "    acs    :  The total number of age classes.\n",
    "\n",
    "    Returns\n",
    "    -------\n",
    "    foi_value :  The force of infection for the specified age group.\n",
    "\n",
    "    \"\"\"\n",
    "    foi_value = 0\n",
    "\n",
    "    # TODO: FOI calculation.\n",
    "\n",
    "    return foi_value\n",
    "\n",
    "\n",
    "def i_r(params: dict) -> float:\n",
    "    \"\"\"\n",
    "    Computes the recovery rate.\n",
    "\n",
    "    Arguments\n",
    "    ---------\n",
    "    params :  The dictionary containing model parameters (expects key 'gamma').\n",
    "\n",
    "    Returns\n",
    "    -------\n",
    "    The recovery rate.\n",
    "\n",
    "    \"\"\"\n",
    "    # TODO: I to R rate.\n",
    "    pass\n",
    "\n",
    "\n",
    "def i_iv(params: dict, ac_idx: int) -> float:\n",
    "    \"\"\"\n",
    "    Computes the vaccination rate for infected individuals based on age class.\n",
    "\n",
    "    Arguments\n",
    "    ---------\n",
    "    params :  The dictionary of model parameters.\n",
    "    ac_idx :  The index of the age class.\n",
    "\n",
    "    Returns\n",
    "    -------\n",
    "    The vaccination rate for infected individuals in the specified age class.\n",
    "\n",
    "    \"\"\"\n",
    "    # TODO: Vaccination rate for infected individuals.\n",
    "    pass\n",
    "\n",
    "\n",
    "def s_sv(params: dict, ac_idx: int) -> float:\n",
    "    \"\"\"\n",
    "    Computes the vaccination rate for susceptible individuals based on age class.\n",
    "\n",
    "    Arguments\n",
    "    ---------\n",
    "    params :  The dictionary of model parameters.\n",
    "    ac_idx :  The index of the age class.\n",
    "\n",
    "    Returns\n",
    "    -------\n",
    "    The vaccination rate for susceptible individuals in the specified age class.\n",
    "\n",
    "    \"\"\"\n",
    "    # TODO: Vaccination rate for susceptible individuals.\n",
    "    pass\n",
    "\n",
    "\n",
    "def initialise_modelstate(modelstate: dict, seeds: int, N_c: int, N_a: int) -> dict:\n",
    "    \"\"\"\n",
    "    Initialises the model state including vaccinated compartments.\n",
    "\n",
    "    Arguments\n",
    "    ---------\n",
    "    modelstate :  A dictionary to hold compartment values over time.\n",
    "    seeds      :  The initial number of infected individuals per group.\n",
    "    N_c        :  The total population size of children.\n",
    "    N_a        :  The total population size of adults.\n",
    "\n",
    "    Returns\n",
    "    -------\n",
    "    modelstate :  The updated model state dictionary.\n",
    "\n",
    "    \"\"\"\n",
    "    modelstate[\"S_c\"]  = [N_c - seeds]\n",
    "    modelstate[\"SV_c\"] = [0]\n",
    "    modelstate[\"I_c\"]  = [seeds]\n",
    "    modelstate[\"IV_c\"] = [0]\n",
    "    modelstate[\"R_c\"]  = [0]\n",
    "    \n",
    "    modelstate[\"S_a\"]  = [N_a - seeds]\n",
    "    modelstate[\"SV_a\"] = [0]\n",
    "    modelstate[\"I_a\"]  = [seeds]\n",
    "    modelstate[\"IV_a\"] = [0]\n",
    "    modelstate[\"R_a\"]  = [0]\n",
    "\n",
    "    return modelstate\n"
   ]
  },
  {
   "cell_type": "markdown",
   "metadata": {},
   "source": [
    "### **Solvers for the model**\n",
    "Next, we will use ODEs to simulate our model. Complete the `ode_system` function with the correct calculations."
   ]
  },
  {
   "cell_type": "code",
   "execution_count": null,
   "metadata": {},
   "outputs": [],
   "source": [
    "def ode_system(y0: tuple, t: float, parameters: dict) -> tuple:\n",
    "    \"\"\"\n",
    "    Defines the ODE system for a two-age-group SIRV model with vaccination.\n",
    "\n",
    "    Arguments\n",
    "    ---------\n",
    "    y0         :  A tuple of initial values for all compartments.\n",
    "    t          :  The current time point (required by `odeint`, but unused internally).\n",
    "    parameters :  A dictionary containing 'disease_params' and population sizes 'Ns'.\n",
    "\n",
    "    Returns\n",
    "    -------\n",
    "    The derivatives of all compartments as a tuple.\n",
    "\n",
    "    \"\"\"\n",
    "    params = parameters[\"disease_params\"]\n",
    "    Ns = parameters[\"Ns\"]\n",
    "\n",
    "    s_c, sv_c, i_c, iv_c, r_c, s_a, sv_a, i_a, iv_a, r_a = y0\n",
    "    ds_c, dsv_c, di_c, div_c, dr_c                       = 0, 0, 0, 0, 0\n",
    "    ds_a, dsv_a, di_a, div_a, dr_a                       = 0, 0, 0, 0, 0\n",
    "\n",
    "    # TODO: Calculate the new individuals for each compartment for children and adults.\n",
    "\n",
    "    return ds_c, dsv_c, di_c, div_c, dr_c, ds_a, dsv_a, di_a, div_a, dr_a\n",
    "\n",
    "\n",
    "def ode_solver(model_state: dict, end_t: int, params: dict, Ns: list) -> dict:\n",
    "    \"\"\"\n",
    "    Solves the SIRV model with vaccination using ordinary differential equations.\n",
    "\n",
    "    Arguments\n",
    "    ---------\n",
    "    model_state :  The initial state of all compartments.\n",
    "    end_t       :  The number of time steps to simulate.\n",
    "    params      :  A dictionary of model parameters.\n",
    "    Ns          :  A list of population sizes for each age group.\n",
    "\n",
    "    Returns\n",
    "    -------\n",
    "    new_model_state :  The model state over time for all compartments.\n",
    "\n",
    "    \"\"\"\n",
    "    all_parameters = {\n",
    "        \"disease_params\": params,\n",
    "        \"Ns\": Ns,\n",
    "    }\n",
    "\n",
    "    # Initial conditions and time vector.\n",
    "    y0 = (\n",
    "        model_state[\"S_c\"][0],  model_state[\"SV_c\"][0],\n",
    "        model_state[\"I_c\"][0],  model_state[\"IV_c\"][0],\n",
    "        model_state[\"R_c\"][0],  model_state[\"S_a\"][0],\n",
    "        model_state[\"SV_a\"][0], model_state[\"I_a\"][0],\n",
    "        model_state[\"IV_a\"][0], model_state[\"R_a\"][0]\n",
    "    )\n",
    "    t = np.linspace(0, end_t, end_t)\n",
    "\n",
    "    # Solving the ODE system.\n",
    "    ret = odeint(ode_system, y0, t, args=(all_parameters,))\n",
    "    s_c, sv_c, i_c, iv_c, r_c, s_a, sv_a, i_a, iv_a, r_a = ret.T\n",
    "\n",
    "    new_model_state = {\n",
    "        \"S_c\":  list(s_c),\n",
    "        \"SV_c\": list(sv_c),\n",
    "        \"I_c\":  list(i_c),\n",
    "        \"IV_c\": list(iv_c),\n",
    "        \"R_c\":  list(r_c),\n",
    "        \"S_a\":  list(s_a),\n",
    "        \"SV_a\": list(sv_a),\n",
    "        \"I_a\":  list(i_a),\n",
    "        \"IV_a\": list(iv_a),\n",
    "        \"R_a\":  list(r_a),\n",
    "    }\n",
    "\n",
    "    return new_model_state\n"
   ]
  },
  {
   "cell_type": "markdown",
   "metadata": {},
   "source": [
    "### **Model Parameters**\n",
    "If you implemented everything correctly, you can use the parameters below to simulate your age-structured SIR model with vaccinations."
   ]
  },
  {
   "cell_type": "code",
   "execution_count": null,
   "metadata": {},
   "outputs": [],
   "source": [
    "# Population and initial conditions.\n",
    "N = 1_000_000       # total population\n",
    "N_c = 0.25 * N      # population of children\n",
    "N_a = 0.75 * N      # population of adults\n",
    "seeds = 1           # initial number of infected individuals\n",
    "\n",
    "# Disease parameters.\n",
    "gamma = 1/7         # recovery rate (1 / infectious period)\n",
    "R0 = 3              # basic reproduction number\n",
    "f = [0.25, 0.75]    # fraction of children and adults in the population\n",
    "\n",
    "# Normalised contact matrix.\n",
    "m = np.array([\n",
    "    [18 * f[0] / f[0],  9 * f[0] / f[1]],\n",
    "    [ 3 * f[1] / f[0], 12 * f[1] / f[1]],\n",
    "])\n",
    "spectral_radius = max(eig(m)[0])  # Spectral radius of the contact matrix.\n",
    "\n",
    "# Model parameters.\n",
    "params = {\n",
    "    \"beta\":   R0 * gamma / spectral_radius,  # transmission rate\n",
    "    \"gamma\":  gamma,                         # recovery rate\n",
    "    \"ve_s\":   0.4,                           # susceptibility of vaccinated individuals\n",
    "    \"ve_i\":   0.5,                           # infectivity of vaccinated infected individuals\n",
    "    \"rho_c\":  0.01,                          # daily vaccination rate of children\n",
    "    \"rho_a\":  0.01,                          # daily vaccination rate of adults\n",
    "}\n",
    "\n",
    "# Simulation settings.\n",
    "end_t = 150  # number of days to simulate\n"
   ]
  },
  {
   "cell_type": "markdown",
   "metadata": {},
   "source": [
    "### **Vaccination Scenarios**\n",
    "Below you can run a scenario with vaccination for adults and children as defined above in the parameters code section. We plot the infected and vaccinated infected individuals over time, both for children and adults."
   ]
  },
  {
   "cell_type": "code",
   "execution_count": null,
   "metadata": {},
   "outputs": [],
   "source": [
    "modelstate = initialise_modelstate(compartments, seeds, N_c, N_a)\n",
    "results = ode_solver(modelstate, end_t, params, [N_c, N_a])\n",
    "\n",
    "plot_ODE_w_vacc(results, \"Children and adults vaccinated\", 200_000)"
   ]
  },
  {
   "cell_type": "markdown",
   "metadata": {},
   "source": [
    "##### **Decreased infectivity for vaccinated individuals**\n",
    "\n",
    "Let us assume that vaccinated infected individuals are less infectious than defined in the previous section. Adjust the parameters, perform a simulation and interpret the results as we did in the previous scenario. How did this affect the disease outcome?"
   ]
  },
  {
   "cell_type": "code",
   "execution_count": null,
   "metadata": {},
   "outputs": [],
   "source": [
    "# TODO: Run a scenario with decreased infectivity of vaccinated individuals and analyse the results."
   ]
  },
  {
   "cell_type": "markdown",
   "metadata": {},
   "source": [
    "### **Vaccine Policies**\n",
    "\n",
    "Reset the parameters to the initial configuration. Now, let's compare what happens when we vaccinate children vs adults, what are the differences in attack rate?"
   ]
  },
  {
   "cell_type": "markdown",
   "metadata": {},
   "source": [
    "##### **Only adults vaccinated**"
   ]
  },
  {
   "cell_type": "code",
   "execution_count": null,
   "metadata": {},
   "outputs": [],
   "source": [
    "# TODO: Run a scenario where we only vaccinate adults and analyse the results."
   ]
  },
  {
   "cell_type": "markdown",
   "metadata": {},
   "source": [
    "##### **Only children vaccinated**"
   ]
  },
  {
   "cell_type": "code",
   "execution_count": null,
   "metadata": {},
   "outputs": [],
   "source": [
    "# TODO: Run a scenario where we only vaccinate children and analyse the results."
   ]
  },
  {
   "cell_type": "markdown",
   "metadata": {},
   "source": [
    "##### *Extra*: Try to implement a stochastic version of the prior exercises."
   ]
  },
  {
   "cell_type": "code",
   "execution_count": null,
   "metadata": {},
   "outputs": [],
   "source": []
  }
 ],
 "metadata": {
  "kernelspec": {
   "display_name": "Python 3",
   "language": "python",
   "name": "python3"
  },
  "language_info": {
   "codemirror_mode": {
    "name": "ipython",
    "version": 3
   },
   "file_extension": ".py",
   "mimetype": "text/x-python",
   "name": "python",
   "nbconvert_exporter": "python",
   "pygments_lexer": "ipython3",
   "version": "3.11.9"
  }
 },
 "nbformat": 4,
 "nbformat_minor": 2
}
